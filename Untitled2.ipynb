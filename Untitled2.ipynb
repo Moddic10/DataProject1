{
 "cells": [
  {
   "cell_type": "code",
   "execution_count": 22,
   "id": "e2433e37",
   "metadata": {},
   "outputs": [],
   "source": [
    "import pandas as pd\n",
    "import matplotlib.pyplot as pyp"
   ]
  },
  {
   "cell_type": "code",
   "execution_count": 23,
   "id": "944d2670",
   "metadata": {},
   "outputs": [],
   "source": [
    "df = pd.read_csv('test.csv')"
   ]
  },
  {
   "cell_type": "code",
   "execution_count": 17,
   "id": "aa92ffa5",
   "metadata": {},
   "outputs": [
    {
     "data": {
      "text/html": [
       "<div>\n",
       "<style scoped>\n",
       "    .dataframe tbody tr th:only-of-type {\n",
       "        vertical-align: middle;\n",
       "    }\n",
       "\n",
       "    .dataframe tbody tr th {\n",
       "        vertical-align: top;\n",
       "    }\n",
       "\n",
       "    .dataframe thead th {\n",
       "        text-align: right;\n",
       "    }\n",
       "</style>\n",
       "<table border=\"1\" class=\"dataframe\">\n",
       "  <thead>\n",
       "    <tr style=\"text-align: right;\">\n",
       "      <th></th>\n",
       "      <th>Patient_ID</th>\n",
       "      <th>Health_Camp_ID</th>\n",
       "      <th>Var1</th>\n",
       "      <th>Var2</th>\n",
       "      <th>Var3</th>\n",
       "      <th>Var4</th>\n",
       "      <th>Var5</th>\n",
       "    </tr>\n",
       "  </thead>\n",
       "  <tbody>\n",
       "    <tr>\n",
       "      <th>count</th>\n",
       "      <td>35249.000000</td>\n",
       "      <td>35249.000000</td>\n",
       "      <td>35249.000000</td>\n",
       "      <td>35249.000000</td>\n",
       "      <td>35249.000000</td>\n",
       "      <td>35249.000000</td>\n",
       "      <td>35249.000000</td>\n",
       "    </tr>\n",
       "    <tr>\n",
       "      <th>mean</th>\n",
       "      <td>507020.926863</td>\n",
       "      <td>6568.160373</td>\n",
       "      <td>0.819201</td>\n",
       "      <td>0.253312</td>\n",
       "      <td>0.000567</td>\n",
       "      <td>0.041845</td>\n",
       "      <td>0.258163</td>\n",
       "    </tr>\n",
       "    <tr>\n",
       "      <th>std</th>\n",
       "      <td>12478.669016</td>\n",
       "      <td>13.212263</td>\n",
       "      <td>8.298817</td>\n",
       "      <td>3.984690</td>\n",
       "      <td>0.023814</td>\n",
       "      <td>0.268826</td>\n",
       "      <td>1.311230</td>\n",
       "    </tr>\n",
       "    <tr>\n",
       "      <th>min</th>\n",
       "      <td>485678.000000</td>\n",
       "      <td>6525.000000</td>\n",
       "      <td>0.000000</td>\n",
       "      <td>0.000000</td>\n",
       "      <td>0.000000</td>\n",
       "      <td>0.000000</td>\n",
       "      <td>0.000000</td>\n",
       "    </tr>\n",
       "    <tr>\n",
       "      <th>25%</th>\n",
       "      <td>496203.000000</td>\n",
       "      <td>6556.000000</td>\n",
       "      <td>0.000000</td>\n",
       "      <td>0.000000</td>\n",
       "      <td>0.000000</td>\n",
       "      <td>0.000000</td>\n",
       "      <td>0.000000</td>\n",
       "    </tr>\n",
       "    <tr>\n",
       "      <th>50%</th>\n",
       "      <td>507018.000000</td>\n",
       "      <td>6568.000000</td>\n",
       "      <td>0.000000</td>\n",
       "      <td>0.000000</td>\n",
       "      <td>0.000000</td>\n",
       "      <td>0.000000</td>\n",
       "      <td>0.000000</td>\n",
       "    </tr>\n",
       "    <tr>\n",
       "      <th>75%</th>\n",
       "      <td>517869.000000</td>\n",
       "      <td>6582.000000</td>\n",
       "      <td>0.000000</td>\n",
       "      <td>0.000000</td>\n",
       "      <td>0.000000</td>\n",
       "      <td>0.000000</td>\n",
       "      <td>0.000000</td>\n",
       "    </tr>\n",
       "    <tr>\n",
       "      <th>max</th>\n",
       "      <td>528657.000000</td>\n",
       "      <td>6584.000000</td>\n",
       "      <td>344.000000</td>\n",
       "      <td>181.000000</td>\n",
       "      <td>1.000000</td>\n",
       "      <td>8.000000</td>\n",
       "      <td>34.000000</td>\n",
       "    </tr>\n",
       "  </tbody>\n",
       "</table>\n",
       "</div>"
      ],
      "text/plain": [
       "          Patient_ID  Health_Camp_ID          Var1          Var2  \\\n",
       "count   35249.000000    35249.000000  35249.000000  35249.000000   \n",
       "mean   507020.926863     6568.160373      0.819201      0.253312   \n",
       "std     12478.669016       13.212263      8.298817      3.984690   \n",
       "min    485678.000000     6525.000000      0.000000      0.000000   \n",
       "25%    496203.000000     6556.000000      0.000000      0.000000   \n",
       "50%    507018.000000     6568.000000      0.000000      0.000000   \n",
       "75%    517869.000000     6582.000000      0.000000      0.000000   \n",
       "max    528657.000000     6584.000000    344.000000    181.000000   \n",
       "\n",
       "               Var3          Var4          Var5  \n",
       "count  35249.000000  35249.000000  35249.000000  \n",
       "mean       0.000567      0.041845      0.258163  \n",
       "std        0.023814      0.268826      1.311230  \n",
       "min        0.000000      0.000000      0.000000  \n",
       "25%        0.000000      0.000000      0.000000  \n",
       "50%        0.000000      0.000000      0.000000  \n",
       "75%        0.000000      0.000000      0.000000  \n",
       "max        1.000000      8.000000     34.000000  "
      ]
     },
     "execution_count": 17,
     "metadata": {},
     "output_type": "execute_result"
    }
   ],
   "source": [
    "df.describe()"
   ]
  },
  {
   "cell_type": "code",
   "execution_count": 24,
   "id": "4652246b",
   "metadata": {},
   "outputs": [
    {
     "data": {
      "text/plain": [
       "(array([3721., 3585., 3499., 3487., 3461., 3502., 3494., 3424., 3647.,\n",
       "        3429.]),\n",
       " array([485678. , 489975.9, 494273.8, 498571.7, 502869.6, 507167.5,\n",
       "        511465.4, 515763.3, 520061.2, 524359.1, 528657. ]),\n",
       " <BarContainer object of 10 artists>)"
      ]
     },
     "execution_count": 24,
     "metadata": {},
     "output_type": "execute_result"
    },
    {
     "data": {
      "image/png": "[encoded data removed]",
      "text/plain": [
       "<Figure size 432x288 with 1 Axes>"
      ]
     },
     "metadata": {
      "needs_background": "light"
     },
     "output_type": "display_data"
    }
   ],
   "source": [
    "pyp.title('HISTOGRAM DIAGRAM')\n",
    "pyp.hist(df['Patient_ID'], align='right', color='yellow', edgecolor='black')\n"
   ]
  },
  {
   "cell_type": "code",
   "execution_count": null,
   "id": "bd6547d6",
   "metadata": {},
   "outputs": [],
   "source": []
  }
 ],
 "metadata": {
  "kernelspec": {
   "display_name": "Python 3",
   "language": "python",
   "name": "python3"
  },
  "language_info": {
   "codemirror_mode": {
    "name": "ipython",
    "version": 3
   },
   "file_extension": ".py",
   "mimetype": "text/x-python",
   "name": "python",
   "nbconvert_exporter": "python",
   "pygments_lexer": "ipython3",
   "version": "3.8.8"
  }
 },
 "nbformat": 4,
 "nbformat_minor": 5
}
